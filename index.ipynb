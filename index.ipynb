{
 "cells": [
  {
   "cell_type": "markdown",
   "metadata": {},
   "source": [
    "# The Kelly Criterion<br>\"The Fundamental Theory of ~~Gambling~~ Investing\"\n",
    "\n",
    "This is an educational repository explaining the Kelly Criterion and related\n",
    "investment concepts.\n",
    "\n",
    "Excellent information on the Kelly Criterion can be found at:\n",
    "\n",
    "- [Kelly Criterion on Wikipedia](https://en.wikipedia.org/wiki/Kelly_criterion)\n",
    "- [Fortune's Formula](https://archive.org/details/fortunesformulau00poun/page/n3/mode/2up) - a book by William Poundstone.\n",
    "- [YouTube video by \"DJ\" Rich](https://www.youtube.com/watch?v=dCXs4YPRkII)\n",
    "\n",
    "*To read the formulas as they are meant to appear, please visit the\n",
    "[Kelly-Criterion](http://mckoss.com/kelly-criterion/) hosted version\n",
    "of this repository.*\n"
   ]
  },
  {
   "cell_type": "markdown",
   "metadata": {},
   "source": [
    "\n",
    "# What is it?\n",
    "\n",
    "This simple formula:\n",
    "\n",
    "<div style=\"text-align: center; font-size: 2rem;\">\n",
    "\n",
    "$f = p - \\frac{1 - p}{b}$\n",
    "\n",
    "</div>\n",
    "\n",
    "answers an surprisingly complex question:\n",
    "\n",
    "> Given a chance to place a sequence of bets, at a given odds (payoff for a\n",
    "> win), and a given probability of winning; how much of my money (stake) should\n",
    "> I put at risk each time I place a bet?\n",
    "\n",
    "It is assumed that if you lose the bet, you all the money you placed on that\n",
    "bet.  And if you win, you gain `b` dollars (as well as returning your original\n",
    "bet to you.\n",
    "\n",
    "The first thing you should be asking about a betting opportunity is *What is the\n",
    "Expected Value* of the bet - for every dollar I wager, what do I expect to gain\n",
    "(on average).  If it's negative, you probably shouldn't be betting at all.\n",
    "\n",
    "<div style=\"text-align: center; font-size: 2rem;\">\n",
    "\n",
    "$$\\begin{aligned}\n",
    "E &= p \\cdot b - (1 - p) \\\\\n",
    "  &= p \\cdot (b + 1) - 1\n",
    "\\end{aligned}$$\n",
    "\n",
    "</div>\n",
    "\n"
   ]
  },
  {
   "cell_type": "markdown",
   "metadata": {},
   "source": [
    "\n",
    "## Simple Example\n",
    "\n",
    "Suppose someone offers to let you bet on the flip of a (fair) coin.  And further,\n",
    "they will pay you TWICE your bet when you win (and take your bet when you lose).\n",
    "\n",
    "If you start with $100 - how much should you risk on each (or a series) of bets?\n",
    "\n",
    "First, we should recognize that this is a VERY GOOD deal - and you should always\n",
    "want to play this game.   The expected value per dollar bet is:\n",
    "\n",
    "<div style=\"text-align: center; font-size: 1.5rem;\">\n",
    "\n",
    "$$\\begin{aligned}\n",
    "E &= p \\cdot (b + 1) - 1 \\\\\n",
    "  &= \\frac{1}{2} \\cdot 3 - 1 \\\\\n",
    "  &= 0.5\n",
    "\\end{aligned}$$\n",
    "\n",
    "</div>\n",
    "\n",
    "In other words, each time you play, you *expect* to gain 50% of the size\n",
    "of your bet.  But that doesn't mean you should bet everything at once.  Because\n",
    "if you lose your whole stake - you'd no longer be able to play.\n",
    "\n",
    "Before going on, let's define the variables in the Kelly Criterion:\n",
    "\n",
    "- **$f$** - The *fraction* of your stake you should place on each bet (where\n",
    "  0 means never bet, and 1 means bet everything you have).\n",
    "- **$p$** - The probability that you'll win the bet (and therefore, $1-p$ is the\n",
    "  probability of losing the bet).\n",
    "- **$b$** - The *odds* given to you (the size of the payoff in case of a win -\n",
    "  expressed as a multiple of your bet size); so betting $1 will return $b\n",
    "  dollars to you.\n",
    "\n",
    "What does the Kelly formula recommend you do in this case?\n",
    "\n",
    "<div style=\"text-align: center; font-size: 2rem;\">\n",
    "\n",
    "\n",
    "$$\\begin{aligned}\n",
    "f &= p - \\frac{1 - p}{b} \\\\\n",
    "  &= 0.5 - \\frac{0.5}{2} \\\\\n",
    "  &= 0.25\n",
    "\\end{aligned}$$\n",
    "\n",
    "</div>\n",
    "\n",
    "So, the optimal first bet would be for $25 of our $100 stake.\n",
    "\n",
    "*Note that the\n",
    "Kelly formula tells us that under **no circumstances** should we risk more\n",
    "than the proportion of our stake greater than the probability of\n",
    "**winning** a bet - no matter how high the payout.*\n"
   ]
  },
  {
   "cell_type": "markdown",
   "metadata": {},
   "source": [
    "# Simulations\n",
    "\n",
    "We can run some simulations of this bet mulitple times and see how varying\n",
    "the fraction of our stake we put at risk, changes the outcome after a given\n",
    "number of bets."
   ]
  },
  {
   "cell_type": "code",
   "execution_count": 3,
   "metadata": {},
   "outputs": [],
   "source": [
    "from random import random\n",
    "import matplotlib.pyplot as plt\n",
    "\n",
    "def coin_flips(n):\n",
    "  return [random() < 0.5 for _ in range(n)]\n",
    "\n",
    "def sim(f, flips):\n",
    "  stake = 100\n",
    "  balance = [stake]\n",
    "\n",
    "  for heads in flips:\n",
    "    bet = int(stake * f)\n",
    "    if heads:\n",
    "      stake += 2 * bet\n",
    "    else:\n",
    "      stake -= bet\n",
    "    balance.append(stake)\n",
    "  \n",
    "  return balance"
   ]
  },
  {
   "cell_type": "code",
   "execution_count": 46,
   "metadata": {},
   "outputs": [
    {
     "ename": "ModuleNotFoundError",
     "evalue": "No module named 'figure'",
     "output_type": "error",
     "traceback": [
      "\u001b[0;31m---------------------------------------------------------------------------\u001b[0m",
      "\u001b[0;31mModuleNotFoundError\u001b[0m                       Traceback (most recent call last)",
      "Input \u001b[0;32mIn [46]\u001b[0m, in \u001b[0;36m<module>\u001b[0;34m\u001b[0m\n\u001b[0;32m----> 1\u001b[0m \u001b[38;5;28;01mimport\u001b[39;00m \u001b[38;5;21;01mmatplotlib\u001b[39;00m\u001b[38;5;21;01m.\u001b[39;00m\u001b[38;5;21;01mpyplot\u001b[39;00m \u001b[38;5;28;01mas\u001b[39;00m \u001b[38;5;21;01mplt\u001b[39;00m\u001b[38;5;241m,\u001b[39m \u001b[38;5;21;01mfigure\u001b[39;00m\n\u001b[1;32m      2\u001b[0m \u001b[38;5;28;01mimport\u001b[39;00m \u001b[38;5;21;01mmatplotlib\u001b[39;00m\u001b[38;5;21;01m.\u001b[39;00m\u001b[38;5;21;01mticker\u001b[39;00m \u001b[38;5;28;01mas\u001b[39;00m \u001b[38;5;21;01mticker\u001b[39;00m\n\u001b[1;32m      4\u001b[0m fig, axs \u001b[38;5;241m=\u001b[39m plt\u001b[38;5;241m.\u001b[39msubplots(\u001b[38;5;241m3\u001b[39m, \u001b[38;5;241m3\u001b[39m, figsize\u001b[38;5;241m=\u001b[39m(\u001b[38;5;241m15\u001b[39m,\u001b[38;5;241m15\u001b[39m))\n",
      "\u001b[0;31mModuleNotFoundError\u001b[0m: No module named 'figure'"
     ]
    }
   ],
   "source": [
    "import matplotlib.pyplot as plt\n",
    "import matplotlib.ticker as ticker\n",
    "\n",
    "fig, axs = plt.subplots(3, 3, figsize=(15,15))\n",
    "\n",
    "for rw in range(3):\n",
    "  for col in range(3):\n",
    "    flips = coin_flips(100)\n",
    "    ax = axs[rw, col]\n",
    "    ax.set_yscale('log')\n",
    "    ax.yaxis.set_major_formatter(ticker.StrMethodFormatter('{x:,.0f}'))\n",
    "    \n",
    "    ax.plot(sim(0.25, flips), 'r', label='kelly (25%)')\n",
    "    ax.plot(sim(0.1, flips), 'b', label=\"conservative (10%)\")\n",
    "    ax.plot(sim(0.4, flips), 'g', label=\"aggressive (40%)\")\n",
    "    ax.legend()\n"
   ]
  },
  {
   "cell_type": "markdown",
   "metadata": {},
   "source": [
    "All the simulations above share the same \"market conditions\" - i.e., the\n",
    "sequence of coin flips is the same for the graphs in each chart.  You can\n",
    "see that the aggressive fraction (green) is occasionally wiped our (or\n",
    "nearly wiped out) in some scenarios."
   ]
  },
  {
   "cell_type": "markdown",
   "metadata": {},
   "source": [
    "# Managing Risk\n",
    "\n",
    "Using the Kelly Criteria is the optimal way to maximize your long-term growth.\n",
    "But not that it is still very susceptible to short-term volatility.  It also\n",
    "assumes that you have correctly analyzed the risk of loss.  For this reason many\n",
    "practitioners choose to wager only a *fraction* (like $\\frac{1}{2}$) of the\n",
    "suggested Kelly bet size in order to minimize the chance of being wiped out.\n",
    "\n",
    "## Simulations to account for volatility\n",
    "\n",
    "We show how the above scenario can perform very differently depending on the\n",
    "randomness of betting outcomes.  We will calculate the average growth rate\n",
    "(per bet) over 100 bets, for a range of betting-fractions from 5% to 50% of\n",
    "your stake (recalling that 25% was the theoretical optimum for this example)."
   ]
  },
  {
   "cell_type": "markdown",
   "metadata": {},
   "source": []
  },
  {
   "cell_type": "code",
   "execution_count": 42,
   "metadata": {},
   "outputs": [],
   "source": [
    "# For each percentage bet size, calculate:\n",
    "# min growth rate\n",
    "# max growth rate\n",
    "# average growth rate\n",
    "# stddev of growth rate\n",
    "\n",
    "from numpy import mean, std\n",
    "\n",
    "def effective_growth_rate(balances):\n",
    "  periods = len(balances) - 1\n",
    "  net = balances[-1]/balances[0]\n",
    "  return net**(1/periods) - 1\n",
    "\n",
    "def strategy_stats():\n",
    "  x_values = list(range(5, 50 + 1, 5))\n",
    "  growth_rates = {}\n",
    "  for _ in range(300):\n",
    "    flips = coin_flips(100)\n",
    "    for percentage in x_values:\n",
    "      if not percentage in growth_rates:\n",
    "        growth_rates[percentage] = []\n",
    "      balances = sim(percentage / 100, flips)\n",
    "      growth_rates[percentage].append(effective_growth_rate(balances))\n",
    "  \n",
    "  stats = {}\n",
    "  for percentage in x_values:\n",
    "    rates = growth_rates[percentage]\n",
    "    stats[percentage] = {\n",
    "      'min': min(rates),\n",
    "      'max': max(rates),\n",
    "      'avg': mean(rates),\n",
    "      'stddev': std(rates)\n",
    "    }\n",
    "\n",
    "  return {\n",
    "    'x': list(range(5, 50 + 1, 5)),\n",
    "    'min': [stats[percentage]['min'] for percentage in x_values],\n",
    "    'max': [stats[percentage]['max'] for percentage in x_values],\n",
    "    'avg': [stats[percentage]['avg'] for percentage in x_values],\n",
    "  }\n",
    "  return stats"
   ]
  },
  {
   "cell_type": "code",
   "execution_count": 59,
   "metadata": {},
   "outputs": [
    {
     "data": {
      "text/plain": [
       "<matplotlib.legend.Legend at 0x7fafea13eb50>"
      ]
     },
     "execution_count": 59,
     "metadata": {},
     "output_type": "execute_result"
    },
    {
     "data": {
      "image/png": "[encoded data removed]",
      "text/plain": [
       "<Figure size 1080x720 with 1 Axes>"
      ]
     },
     "metadata": {
      "needs_background": "light"
     },
     "output_type": "display_data"
    }
   ],
   "source": [
    "stats = strategy_stats()\n",
    "\n",
    "index_25 = stats['x'].index(25)\n",
    "\n",
    "plt.figure(figsize=(15,10))\n",
    "plt.plot(stats['x'], stats['avg'], '-r', label=\"average growth rate\")\n",
    "plt.plot([25], [stats['avg'][index_25]], 'og')\n",
    "plt.legend()\n"
   ]
  },
  {
   "cell_type": "code",
   "execution_count": null,
   "metadata": {},
   "outputs": [],
   "source": []
  }
 ],
 "metadata": {
  "interpreter": {
   "hash": "31f2aee4e71d21fbe5cf8b01ff0e069b9275f58929596ceb00d14d90e3e16cd6"
  },
  "kernelspec": {
   "display_name": "Python 3 (ipykernel)",
   "language": "python",
   "name": "python3"
  },
  "language_info": {
   "codemirror_mode": {
    "name": "ipython",
    "version": 3
   },
   "file_extension": ".py",
   "mimetype": "text/x-python",
   "name": "python",
   "nbconvert_exporter": "python",
   "pygments_lexer": "ipython3",
   "version": "3.8.10"
  }
 },
 "nbformat": 4,
 "nbformat_minor": 2
}
